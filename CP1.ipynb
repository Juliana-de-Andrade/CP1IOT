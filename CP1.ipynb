{
  "nbformat": 4,
  "nbformat_minor": 0,
  "metadata": {
    "colab": {
      "provenance": [],
      "authorship_tag": "ABX9TyMbkarJVPFztNvdTFiHVYwK",
      "include_colab_link": true
    },
    "kernelspec": {
      "name": "python3",
      "display_name": "Python 3"
    },
    "language_info": {
      "name": "python"
    }
  },
  "cells": [
    {
      "cell_type": "markdown",
      "metadata": {
        "id": "view-in-github",
        "colab_type": "text"
      },
      "source": [
        "<a href=\"https://colab.research.google.com/github/Juliana-de-Andrade/CP1IOT/blob/main/CP1.ipynb\" target=\"_parent\"><img src=\"https://colab.research.google.com/assets/colab-badge.svg\" alt=\"Open In Colab\"/></a>"
      ]
    },
    {
      "cell_type": "markdown",
      "source": [
        "Imports\n"
      ],
      "metadata": {
        "id": "M0pnIXd4hW4Y"
      }
    },
    {
      "cell_type": "code",
      "execution_count": 2,
      "metadata": {
        "id": "X5ZkuvHBdLBh"
      },
      "outputs": [],
      "source": [
        "import pandas as pd"
      ]
    },
    {
      "cell_type": "markdown",
      "source": [
        "1. Carregue o dataset e exiba as 10 primeiras linhas."
      ],
      "metadata": {
        "id": "xS8pSygFgFy4"
      }
    },
    {
      "cell_type": "code",
      "source": [
        "df= pd.read_csv('household_power_consumption.txt', sep=';')"
      ],
      "metadata": {
        "id": "IhO7rHVcgHb4",
        "colab": {
          "base_uri": "https://localhost:8080/"
        },
        "outputId": "3a0226ac-14ca-4ebe-8dc1-69a785d60920"
      },
      "execution_count": 3,
      "outputs": [
        {
          "output_type": "stream",
          "name": "stderr",
          "text": [
            "/tmp/ipython-input-3731341888.py:1: DtypeWarning: Columns (2,3,4,5,6,7) have mixed types. Specify dtype option on import or set low_memory=False.\n",
            "  df= pd.read_csv('household_power_consumption.txt', sep=';')\n"
          ]
        }
      ]
    },
    {
      "cell_type": "code",
      "source": [
        "df.head(10)"
      ],
      "metadata": {
        "colab": {
          "base_uri": "https://localhost:8080/",
          "height": 383
        },
        "id": "waOOobJdgHu4",
        "outputId": "044c8913-ef2d-42bc-9897-fea76e75b2c1"
      },
      "execution_count": null,
      "outputs": [
        {
          "output_type": "execute_result",
          "data": {
            "text/plain": [
              "         Date      Time Global_active_power Global_reactive_power  Voltage  \\\n",
              "0  16/12/2006  17:24:00               4.216                 0.418  234.840   \n",
              "1  16/12/2006  17:25:00               5.360                 0.436  233.630   \n",
              "2  16/12/2006  17:26:00               5.374                 0.498  233.290   \n",
              "3  16/12/2006  17:27:00               5.388                 0.502  233.740   \n",
              "4  16/12/2006  17:28:00               3.666                 0.528  235.680   \n",
              "5  16/12/2006  17:29:00               3.520                 0.522  235.020   \n",
              "6  16/12/2006  17:30:00               3.702                 0.520  235.090   \n",
              "7  16/12/2006  17:31:00               3.700                 0.520  235.220   \n",
              "8  16/12/2006  17:32:00               3.668                 0.510  233.990   \n",
              "9  16/12/2006  17:33:00               3.662                 0.510  233.860   \n",
              "\n",
              "  Global_intensity Sub_metering_1 Sub_metering_2  Sub_metering_3  \n",
              "0           18.400          0.000          1.000            17.0  \n",
              "1           23.000          0.000          1.000            16.0  \n",
              "2           23.000          0.000          2.000            17.0  \n",
              "3           23.000          0.000          1.000            17.0  \n",
              "4           15.800          0.000          1.000            17.0  \n",
              "5           15.000          0.000          2.000            17.0  \n",
              "6           15.800          0.000          1.000            17.0  \n",
              "7           15.800          0.000          1.000            17.0  \n",
              "8           15.800          0.000          1.000            17.0  \n",
              "9           15.800          0.000          2.000            16.0  "
            ],
            "text/html": [
              "\n",
              "  <div id=\"df-24ecae25-b703-47d3-904e-85e7e9c758c7\" class=\"colab-df-container\">\n",
              "    <div>\n",
              "<style scoped>\n",
              "    .dataframe tbody tr th:only-of-type {\n",
              "        vertical-align: middle;\n",
              "    }\n",
              "\n",
              "    .dataframe tbody tr th {\n",
              "        vertical-align: top;\n",
              "    }\n",
              "\n",
              "    .dataframe thead th {\n",
              "        text-align: right;\n",
              "    }\n",
              "</style>\n",
              "<table border=\"1\" class=\"dataframe\">\n",
              "  <thead>\n",
              "    <tr style=\"text-align: right;\">\n",
              "      <th></th>\n",
              "      <th>Date</th>\n",
              "      <th>Time</th>\n",
              "      <th>Global_active_power</th>\n",
              "      <th>Global_reactive_power</th>\n",
              "      <th>Voltage</th>\n",
              "      <th>Global_intensity</th>\n",
              "      <th>Sub_metering_1</th>\n",
              "      <th>Sub_metering_2</th>\n",
              "      <th>Sub_metering_3</th>\n",
              "    </tr>\n",
              "  </thead>\n",
              "  <tbody>\n",
              "    <tr>\n",
              "      <th>0</th>\n",
              "      <td>16/12/2006</td>\n",
              "      <td>17:24:00</td>\n",
              "      <td>4.216</td>\n",
              "      <td>0.418</td>\n",
              "      <td>234.840</td>\n",
              "      <td>18.400</td>\n",
              "      <td>0.000</td>\n",
              "      <td>1.000</td>\n",
              "      <td>17.0</td>\n",
              "    </tr>\n",
              "    <tr>\n",
              "      <th>1</th>\n",
              "      <td>16/12/2006</td>\n",
              "      <td>17:25:00</td>\n",
              "      <td>5.360</td>\n",
              "      <td>0.436</td>\n",
              "      <td>233.630</td>\n",
              "      <td>23.000</td>\n",
              "      <td>0.000</td>\n",
              "      <td>1.000</td>\n",
              "      <td>16.0</td>\n",
              "    </tr>\n",
              "    <tr>\n",
              "      <th>2</th>\n",
              "      <td>16/12/2006</td>\n",
              "      <td>17:26:00</td>\n",
              "      <td>5.374</td>\n",
              "      <td>0.498</td>\n",
              "      <td>233.290</td>\n",
              "      <td>23.000</td>\n",
              "      <td>0.000</td>\n",
              "      <td>2.000</td>\n",
              "      <td>17.0</td>\n",
              "    </tr>\n",
              "    <tr>\n",
              "      <th>3</th>\n",
              "      <td>16/12/2006</td>\n",
              "      <td>17:27:00</td>\n",
              "      <td>5.388</td>\n",
              "      <td>0.502</td>\n",
              "      <td>233.740</td>\n",
              "      <td>23.000</td>\n",
              "      <td>0.000</td>\n",
              "      <td>1.000</td>\n",
              "      <td>17.0</td>\n",
              "    </tr>\n",
              "    <tr>\n",
              "      <th>4</th>\n",
              "      <td>16/12/2006</td>\n",
              "      <td>17:28:00</td>\n",
              "      <td>3.666</td>\n",
              "      <td>0.528</td>\n",
              "      <td>235.680</td>\n",
              "      <td>15.800</td>\n",
              "      <td>0.000</td>\n",
              "      <td>1.000</td>\n",
              "      <td>17.0</td>\n",
              "    </tr>\n",
              "    <tr>\n",
              "      <th>5</th>\n",
              "      <td>16/12/2006</td>\n",
              "      <td>17:29:00</td>\n",
              "      <td>3.520</td>\n",
              "      <td>0.522</td>\n",
              "      <td>235.020</td>\n",
              "      <td>15.000</td>\n",
              "      <td>0.000</td>\n",
              "      <td>2.000</td>\n",
              "      <td>17.0</td>\n",
              "    </tr>\n",
              "    <tr>\n",
              "      <th>6</th>\n",
              "      <td>16/12/2006</td>\n",
              "      <td>17:30:00</td>\n",
              "      <td>3.702</td>\n",
              "      <td>0.520</td>\n",
              "      <td>235.090</td>\n",
              "      <td>15.800</td>\n",
              "      <td>0.000</td>\n",
              "      <td>1.000</td>\n",
              "      <td>17.0</td>\n",
              "    </tr>\n",
              "    <tr>\n",
              "      <th>7</th>\n",
              "      <td>16/12/2006</td>\n",
              "      <td>17:31:00</td>\n",
              "      <td>3.700</td>\n",
              "      <td>0.520</td>\n",
              "      <td>235.220</td>\n",
              "      <td>15.800</td>\n",
              "      <td>0.000</td>\n",
              "      <td>1.000</td>\n",
              "      <td>17.0</td>\n",
              "    </tr>\n",
              "    <tr>\n",
              "      <th>8</th>\n",
              "      <td>16/12/2006</td>\n",
              "      <td>17:32:00</td>\n",
              "      <td>3.668</td>\n",
              "      <td>0.510</td>\n",
              "      <td>233.990</td>\n",
              "      <td>15.800</td>\n",
              "      <td>0.000</td>\n",
              "      <td>1.000</td>\n",
              "      <td>17.0</td>\n",
              "    </tr>\n",
              "    <tr>\n",
              "      <th>9</th>\n",
              "      <td>16/12/2006</td>\n",
              "      <td>17:33:00</td>\n",
              "      <td>3.662</td>\n",
              "      <td>0.510</td>\n",
              "      <td>233.860</td>\n",
              "      <td>15.800</td>\n",
              "      <td>0.000</td>\n",
              "      <td>2.000</td>\n",
              "      <td>16.0</td>\n",
              "    </tr>\n",
              "  </tbody>\n",
              "</table>\n",
              "</div>\n",
              "    <div class=\"colab-df-buttons\">\n",
              "\n",
              "  <div class=\"colab-df-container\">\n",
              "    <button class=\"colab-df-convert\" onclick=\"convertToInteractive('df-24ecae25-b703-47d3-904e-85e7e9c758c7')\"\n",
              "            title=\"Convert this dataframe to an interactive table.\"\n",
              "            style=\"display:none;\">\n",
              "\n",
              "  <svg xmlns=\"http://www.w3.org/2000/svg\" height=\"24px\" viewBox=\"0 -960 960 960\">\n",
              "    <path d=\"M120-120v-720h720v720H120Zm60-500h600v-160H180v160Zm220 220h160v-160H400v160Zm0 220h160v-160H400v160ZM180-400h160v-160H180v160Zm440 0h160v-160H620v160ZM180-180h160v-160H180v160Zm440 0h160v-160H620v160Z\"/>\n",
              "  </svg>\n",
              "    </button>\n",
              "\n",
              "  <style>\n",
              "    .colab-df-container {\n",
              "      display:flex;\n",
              "      gap: 12px;\n",
              "    }\n",
              "\n",
              "    .colab-df-convert {\n",
              "      background-color: #E8F0FE;\n",
              "      border: none;\n",
              "      border-radius: 50%;\n",
              "      cursor: pointer;\n",
              "      display: none;\n",
              "      fill: #1967D2;\n",
              "      height: 32px;\n",
              "      padding: 0 0 0 0;\n",
              "      width: 32px;\n",
              "    }\n",
              "\n",
              "    .colab-df-convert:hover {\n",
              "      background-color: #E2EBFA;\n",
              "      box-shadow: 0px 1px 2px rgba(60, 64, 67, 0.3), 0px 1px 3px 1px rgba(60, 64, 67, 0.15);\n",
              "      fill: #174EA6;\n",
              "    }\n",
              "\n",
              "    .colab-df-buttons div {\n",
              "      margin-bottom: 4px;\n",
              "    }\n",
              "\n",
              "    [theme=dark] .colab-df-convert {\n",
              "      background-color: #3B4455;\n",
              "      fill: #D2E3FC;\n",
              "    }\n",
              "\n",
              "    [theme=dark] .colab-df-convert:hover {\n",
              "      background-color: #434B5C;\n",
              "      box-shadow: 0px 1px 3px 1px rgba(0, 0, 0, 0.15);\n",
              "      filter: drop-shadow(0px 1px 2px rgba(0, 0, 0, 0.3));\n",
              "      fill: #FFFFFF;\n",
              "    }\n",
              "  </style>\n",
              "\n",
              "    <script>\n",
              "      const buttonEl =\n",
              "        document.querySelector('#df-24ecae25-b703-47d3-904e-85e7e9c758c7 button.colab-df-convert');\n",
              "      buttonEl.style.display =\n",
              "        google.colab.kernel.accessAllowed ? 'block' : 'none';\n",
              "\n",
              "      async function convertToInteractive(key) {\n",
              "        const element = document.querySelector('#df-24ecae25-b703-47d3-904e-85e7e9c758c7');\n",
              "        const dataTable =\n",
              "          await google.colab.kernel.invokeFunction('convertToInteractive',\n",
              "                                                    [key], {});\n",
              "        if (!dataTable) return;\n",
              "\n",
              "        const docLinkHtml = 'Like what you see? Visit the ' +\n",
              "          '<a target=\"_blank\" href=https://colab.research.google.com/notebooks/data_table.ipynb>data table notebook</a>'\n",
              "          + ' to learn more about interactive tables.';\n",
              "        element.innerHTML = '';\n",
              "        dataTable['output_type'] = 'display_data';\n",
              "        await google.colab.output.renderOutput(dataTable, element);\n",
              "        const docLink = document.createElement('div');\n",
              "        docLink.innerHTML = docLinkHtml;\n",
              "        element.appendChild(docLink);\n",
              "      }\n",
              "    </script>\n",
              "  </div>\n",
              "\n",
              "\n",
              "    <div id=\"df-1297c89a-16a8-4265-a4a4-0914dc9bfdb2\">\n",
              "      <button class=\"colab-df-quickchart\" onclick=\"quickchart('df-1297c89a-16a8-4265-a4a4-0914dc9bfdb2')\"\n",
              "                title=\"Suggest charts\"\n",
              "                style=\"display:none;\">\n",
              "\n",
              "<svg xmlns=\"http://www.w3.org/2000/svg\" height=\"24px\"viewBox=\"0 0 24 24\"\n",
              "     width=\"24px\">\n",
              "    <g>\n",
              "        <path d=\"M19 3H5c-1.1 0-2 .9-2 2v14c0 1.1.9 2 2 2h14c1.1 0 2-.9 2-2V5c0-1.1-.9-2-2-2zM9 17H7v-7h2v7zm4 0h-2V7h2v10zm4 0h-2v-4h2v4z\"/>\n",
              "    </g>\n",
              "</svg>\n",
              "      </button>\n",
              "\n",
              "<style>\n",
              "  .colab-df-quickchart {\n",
              "      --bg-color: #E8F0FE;\n",
              "      --fill-color: #1967D2;\n",
              "      --hover-bg-color: #E2EBFA;\n",
              "      --hover-fill-color: #174EA6;\n",
              "      --disabled-fill-color: #AAA;\n",
              "      --disabled-bg-color: #DDD;\n",
              "  }\n",
              "\n",
              "  [theme=dark] .colab-df-quickchart {\n",
              "      --bg-color: #3B4455;\n",
              "      --fill-color: #D2E3FC;\n",
              "      --hover-bg-color: #434B5C;\n",
              "      --hover-fill-color: #FFFFFF;\n",
              "      --disabled-bg-color: #3B4455;\n",
              "      --disabled-fill-color: #666;\n",
              "  }\n",
              "\n",
              "  .colab-df-quickchart {\n",
              "    background-color: var(--bg-color);\n",
              "    border: none;\n",
              "    border-radius: 50%;\n",
              "    cursor: pointer;\n",
              "    display: none;\n",
              "    fill: var(--fill-color);\n",
              "    height: 32px;\n",
              "    padding: 0;\n",
              "    width: 32px;\n",
              "  }\n",
              "\n",
              "  .colab-df-quickchart:hover {\n",
              "    background-color: var(--hover-bg-color);\n",
              "    box-shadow: 0 1px 2px rgba(60, 64, 67, 0.3), 0 1px 3px 1px rgba(60, 64, 67, 0.15);\n",
              "    fill: var(--button-hover-fill-color);\n",
              "  }\n",
              "\n",
              "  .colab-df-quickchart-complete:disabled,\n",
              "  .colab-df-quickchart-complete:disabled:hover {\n",
              "    background-color: var(--disabled-bg-color);\n",
              "    fill: var(--disabled-fill-color);\n",
              "    box-shadow: none;\n",
              "  }\n",
              "\n",
              "  .colab-df-spinner {\n",
              "    border: 2px solid var(--fill-color);\n",
              "    border-color: transparent;\n",
              "    border-bottom-color: var(--fill-color);\n",
              "    animation:\n",
              "      spin 1s steps(1) infinite;\n",
              "  }\n",
              "\n",
              "  @keyframes spin {\n",
              "    0% {\n",
              "      border-color: transparent;\n",
              "      border-bottom-color: var(--fill-color);\n",
              "      border-left-color: var(--fill-color);\n",
              "    }\n",
              "    20% {\n",
              "      border-color: transparent;\n",
              "      border-left-color: var(--fill-color);\n",
              "      border-top-color: var(--fill-color);\n",
              "    }\n",
              "    30% {\n",
              "      border-color: transparent;\n",
              "      border-left-color: var(--fill-color);\n",
              "      border-top-color: var(--fill-color);\n",
              "      border-right-color: var(--fill-color);\n",
              "    }\n",
              "    40% {\n",
              "      border-color: transparent;\n",
              "      border-right-color: var(--fill-color);\n",
              "      border-top-color: var(--fill-color);\n",
              "    }\n",
              "    60% {\n",
              "      border-color: transparent;\n",
              "      border-right-color: var(--fill-color);\n",
              "    }\n",
              "    80% {\n",
              "      border-color: transparent;\n",
              "      border-right-color: var(--fill-color);\n",
              "      border-bottom-color: var(--fill-color);\n",
              "    }\n",
              "    90% {\n",
              "      border-color: transparent;\n",
              "      border-bottom-color: var(--fill-color);\n",
              "    }\n",
              "  }\n",
              "</style>\n",
              "\n",
              "      <script>\n",
              "        async function quickchart(key) {\n",
              "          const quickchartButtonEl =\n",
              "            document.querySelector('#' + key + ' button');\n",
              "          quickchartButtonEl.disabled = true;  // To prevent multiple clicks.\n",
              "          quickchartButtonEl.classList.add('colab-df-spinner');\n",
              "          try {\n",
              "            const charts = await google.colab.kernel.invokeFunction(\n",
              "                'suggestCharts', [key], {});\n",
              "          } catch (error) {\n",
              "            console.error('Error during call to suggestCharts:', error);\n",
              "          }\n",
              "          quickchartButtonEl.classList.remove('colab-df-spinner');\n",
              "          quickchartButtonEl.classList.add('colab-df-quickchart-complete');\n",
              "        }\n",
              "        (() => {\n",
              "          let quickchartButtonEl =\n",
              "            document.querySelector('#df-1297c89a-16a8-4265-a4a4-0914dc9bfdb2 button');\n",
              "          quickchartButtonEl.style.display =\n",
              "            google.colab.kernel.accessAllowed ? 'block' : 'none';\n",
              "        })();\n",
              "      </script>\n",
              "    </div>\n",
              "\n",
              "    </div>\n",
              "  </div>\n"
            ],
            "application/vnd.google.colaboratory.intrinsic+json": {
              "type": "dataframe",
              "variable_name": "df"
            }
          },
          "metadata": {},
          "execution_count": 4
        }
      ]
    },
    {
      "cell_type": "markdown",
      "source": [
        "2. Explique a diferença entre as variáveis Global_active_power e Global_reactive_power."
      ],
      "metadata": {
        "id": "JCejjMvZgIEQ"
      }
    },
    {
      "cell_type": "code",
      "source": [
        "#Global_active_power representa a potência ativa média global por minuto da residência (em kilowatt),que é a potência utilizada para realizar trabalho útil.\n",
        "#Já Global_reactive_power representa a potência reativa média global por minuto da residência (em kilowatt),\n",
        "#que é a potência necessária para manter campos eletromagnéticos em circuitos de corrente alternada,\n",
        "#mas que não realiza trabalho útil."
      ],
      "metadata": {
        "id": "w7Gm246ygKfY"
      },
      "execution_count": null,
      "outputs": []
    },
    {
      "cell_type": "markdown",
      "source": [
        "3. Verifique se existem valores ausentes no dataset. Quantifique-os."
      ],
      "metadata": {
        "id": "cIKVFT6DgKsI"
      }
    },
    {
      "cell_type": "code",
      "source": [
        "df.info()"
      ],
      "metadata": {
        "colab": {
          "base_uri": "https://localhost:8080/"
        },
        "collapsed": true,
        "id": "Nl1vUR45gOBY",
        "outputId": "2e41ec86-c610-475b-badf-ea78083a394e"
      },
      "execution_count": null,
      "outputs": [
        {
          "output_type": "stream",
          "name": "stdout",
          "text": [
            "<class 'pandas.core.frame.DataFrame'>\n",
            "RangeIndex: 1549470 entries, 0 to 1549469\n",
            "Data columns (total 9 columns):\n",
            " #   Column                 Non-Null Count    Dtype  \n",
            "---  ------                 --------------    -----  \n",
            " 0   Date                   1549470 non-null  object \n",
            " 1   Time                   1549470 non-null  object \n",
            " 2   Global_active_power    1549470 non-null  object \n",
            " 3   Global_reactive_power  1549470 non-null  object \n",
            " 4   Voltage                1549470 non-null  object \n",
            " 5   Global_intensity       1549470 non-null  object \n",
            " 6   Sub_metering_1         1549470 non-null  object \n",
            " 7   Sub_metering_2         1549469 non-null  object \n",
            " 8   Sub_metering_3         1541121 non-null  float64\n",
            "dtypes: float64(1), object(8)\n",
            "memory usage: 106.4+ MB\n"
          ]
        }
      ]
    },
    {
      "cell_type": "code",
      "source": [
        "df.isnull().sum()"
      ],
      "metadata": {
        "colab": {
          "base_uri": "https://localhost:8080/",
          "height": 366
        },
        "collapsed": true,
        "id": "50_bRO3skeSF",
        "outputId": "94965488-41f5-41fa-d3da-c29837d41f44"
      },
      "execution_count": null,
      "outputs": [
        {
          "output_type": "execute_result",
          "data": {
            "text/plain": [
              "Date                        0\n",
              "Time                        0\n",
              "Global_active_power         0\n",
              "Global_reactive_power       0\n",
              "Voltage                     0\n",
              "Global_intensity            0\n",
              "Sub_metering_1              0\n",
              "Sub_metering_2              1\n",
              "Sub_metering_3           8349\n",
              "dtype: int64"
            ],
            "text/html": [
              "<div>\n",
              "<style scoped>\n",
              "    .dataframe tbody tr th:only-of-type {\n",
              "        vertical-align: middle;\n",
              "    }\n",
              "\n",
              "    .dataframe tbody tr th {\n",
              "        vertical-align: top;\n",
              "    }\n",
              "\n",
              "    .dataframe thead th {\n",
              "        text-align: right;\n",
              "    }\n",
              "</style>\n",
              "<table border=\"1\" class=\"dataframe\">\n",
              "  <thead>\n",
              "    <tr style=\"text-align: right;\">\n",
              "      <th></th>\n",
              "      <th>0</th>\n",
              "    </tr>\n",
              "  </thead>\n",
              "  <tbody>\n",
              "    <tr>\n",
              "      <th>Date</th>\n",
              "      <td>0</td>\n",
              "    </tr>\n",
              "    <tr>\n",
              "      <th>Time</th>\n",
              "      <td>0</td>\n",
              "    </tr>\n",
              "    <tr>\n",
              "      <th>Global_active_power</th>\n",
              "      <td>0</td>\n",
              "    </tr>\n",
              "    <tr>\n",
              "      <th>Global_reactive_power</th>\n",
              "      <td>0</td>\n",
              "    </tr>\n",
              "    <tr>\n",
              "      <th>Voltage</th>\n",
              "      <td>0</td>\n",
              "    </tr>\n",
              "    <tr>\n",
              "      <th>Global_intensity</th>\n",
              "      <td>0</td>\n",
              "    </tr>\n",
              "    <tr>\n",
              "      <th>Sub_metering_1</th>\n",
              "      <td>0</td>\n",
              "    </tr>\n",
              "    <tr>\n",
              "      <th>Sub_metering_2</th>\n",
              "      <td>1</td>\n",
              "    </tr>\n",
              "    <tr>\n",
              "      <th>Sub_metering_3</th>\n",
              "      <td>8349</td>\n",
              "    </tr>\n",
              "  </tbody>\n",
              "</table>\n",
              "</div><br><label><b>dtype:</b> int64</label>"
            ]
          },
          "metadata": {},
          "execution_count": 7
        }
      ]
    },
    {
      "cell_type": "markdown",
      "source": [
        "4. Converta a coluna Date para o tipo datetime e crie uma nova coluna com o dia da semana correspondente."
      ],
      "metadata": {
        "id": "v5ZhFTv2gORo"
      }
    },
    {
      "cell_type": "code",
      "source": [
        "df['Date'] = pd.to_datetime(df['Date'])\n",
        "df.info()"
      ],
      "metadata": {
        "colab": {
          "base_uri": "https://localhost:8080/"
        },
        "collapsed": true,
        "id": "RJsf8Iw9gQBZ",
        "outputId": "a5842a56-9c63-445d-90f4-59c460e4a7d7"
      },
      "execution_count": 11,
      "outputs": [
        {
          "output_type": "stream",
          "name": "stdout",
          "text": [
            "<class 'pandas.core.frame.DataFrame'>\n",
            "RangeIndex: 2075259 entries, 0 to 2075258\n",
            "Data columns (total 9 columns):\n",
            " #   Column                 Dtype         \n",
            "---  ------                 -----         \n",
            " 0   Date                   datetime64[ns]\n",
            " 1   Time                   object        \n",
            " 2   Global_active_power    float64       \n",
            " 3   Global_reactive_power  object        \n",
            " 4   Voltage                object        \n",
            " 5   Global_intensity       object        \n",
            " 6   Sub_metering_1         object        \n",
            " 7   Sub_metering_2         object        \n",
            " 8   Sub_metering_3         float64       \n",
            "dtypes: datetime64[ns](1), float64(2), object(6)\n",
            "memory usage: 142.5+ MB\n"
          ]
        },
        {
          "output_type": "stream",
          "name": "stderr",
          "text": [
            "/tmp/ipython-input-2345423161.py:1: UserWarning: Parsing dates in %d/%m/%Y format when dayfirst=False (the default) was specified. Pass `dayfirst=True` or specify a format to silence this warning.\n",
            "  df['Date'] = pd.to_datetime(df['Date'])\n"
          ]
        }
      ]
    },
    {
      "cell_type": "code",
      "source": [
        "df['Dia_da_semana'] = df['Date'].dt.day_name()"
      ],
      "metadata": {
        "collapsed": true,
        "id": "UQEj4t1wgQKY"
      },
      "execution_count": null,
      "outputs": []
    },
    {
      "cell_type": "markdown",
      "source": [
        "5. Filtre os registros apenas do ano de 2007 e calcule a média de consumo diário de\n",
        "Global_active_power."
      ],
      "metadata": {
        "id": "Y9H22fwdgQYA"
      }
    },
    {
      "cell_type": "code",
      "source": [
        "df['Global_active_power'] = pd.to_numeric(df['Global_active_power'], errors='coerce')\n",
        "\n",
        "df_2007 = df[df['Date'].dt.year == 2007]\n",
        "\n",
        "consumo_2007= df_2007.groupby(df_2007['Date'].dt.date)['Global_active_power'].mean()"
      ],
      "metadata": {
        "id": "6Mrzoky1gUlY"
      },
      "execution_count": 12,
      "outputs": []
    },
    {
      "cell_type": "markdown",
      "source": [
        "6. Gere um gráfico de linha mostrando a variação de Global_active_power em um único dia à sua\n",
        "escolha"
      ],
      "metadata": {
        "id": "mJTY0DH6gXVI"
      }
    },
    {
      "cell_type": "code",
      "source": [],
      "metadata": {
        "id": "s9YuCKNUga1A"
      },
      "execution_count": null,
      "outputs": []
    },
    {
      "cell_type": "code",
      "source": [],
      "metadata": {
        "id": "P3GovUyQga7X"
      },
      "execution_count": null,
      "outputs": []
    },
    {
      "cell_type": "markdown",
      "source": [
        "7. Crie um histograma da variável Voltage. O que pode ser observado sobre sua distribuição?"
      ],
      "metadata": {
        "id": "8be1rOL5gbHh"
      }
    },
    {
      "cell_type": "code",
      "source": [],
      "metadata": {
        "id": "KE__-9CBgrOg"
      },
      "execution_count": null,
      "outputs": []
    },
    {
      "cell_type": "code",
      "source": [],
      "metadata": {
        "id": "D_xhym7BgrYI"
      },
      "execution_count": null,
      "outputs": []
    },
    {
      "cell_type": "markdown",
      "source": [
        "8. Calcule o consumo médio por mês em todo o período disponível no dataset."
      ],
      "metadata": {
        "id": "_STESf6OgrnI"
      }
    },
    {
      "cell_type": "code",
      "source": [],
      "metadata": {
        "id": "Rm28t2XVguDI"
      },
      "execution_count": null,
      "outputs": []
    },
    {
      "cell_type": "code",
      "source": [],
      "metadata": {
        "id": "SSjnG6sOguGI"
      },
      "execution_count": null,
      "outputs": []
    },
    {
      "cell_type": "markdown",
      "source": [
        "9. Identifique o dia com maior consumo de energia ativa global (Global_active_power)."
      ],
      "metadata": {
        "id": "flLMn5i4guMx"
      }
    },
    {
      "cell_type": "code",
      "source": [],
      "metadata": {
        "id": "0KyxD2w8gv-Q"
      },
      "execution_count": null,
      "outputs": []
    },
    {
      "cell_type": "code",
      "source": [],
      "metadata": {
        "id": "SEZPdf5YgwAo"
      },
      "execution_count": null,
      "outputs": []
    },
    {
      "cell_type": "markdown",
      "source": [
        "10. Compare o consumo médio de energia ativa global em dias de semana versus finais de\n",
        "semana."
      ],
      "metadata": {
        "id": "N9PcME1dgwIg"
      }
    },
    {
      "cell_type": "code",
      "source": [],
      "metadata": {
        "id": "UY5AHAucgzFg"
      },
      "execution_count": null,
      "outputs": []
    },
    {
      "cell_type": "code",
      "source": [],
      "metadata": {
        "id": "OfHzfSrqgzII"
      },
      "execution_count": null,
      "outputs": []
    },
    {
      "cell_type": "markdown",
      "source": [
        "11. Calcule a correlação entre as variáveis Global_active_power, Global_reactive_power, Voltage\n",
        "e Global_intensity."
      ],
      "metadata": {
        "id": "VgdfvoRRgzQ4"
      }
    },
    {
      "cell_type": "code",
      "source": [],
      "metadata": {
        "id": "yKppaavDg2BQ"
      },
      "execution_count": null,
      "outputs": []
    },
    {
      "cell_type": "code",
      "source": [],
      "metadata": {
        "id": "gCkXLLn9g2D4"
      },
      "execution_count": null,
      "outputs": []
    },
    {
      "cell_type": "markdown",
      "source": [
        "12. Crie uma nova variável chamada Total_Sub_metering que some Sub_metering_1,\n",
        "Sub_metering_2 e Sub_metering_3."
      ],
      "metadata": {
        "id": "x_kR7JStg2MI"
      }
    },
    {
      "cell_type": "code",
      "source": [],
      "metadata": {
        "id": "UicOD3rIg4lw"
      },
      "execution_count": null,
      "outputs": []
    },
    {
      "cell_type": "code",
      "source": [],
      "metadata": {
        "id": "1mU57FSUg4oI"
      },
      "execution_count": null,
      "outputs": []
    },
    {
      "cell_type": "markdown",
      "source": [
        "13. Verifique se há algum mês em que Total_Sub_metering ultrapassa a média de Global_active_power."
      ],
      "metadata": {
        "id": "D6h1-amTg4zo"
      }
    },
    {
      "cell_type": "code",
      "source": [],
      "metadata": {
        "id": "wZS0rELWg9OQ"
      },
      "execution_count": null,
      "outputs": []
    },
    {
      "cell_type": "code",
      "source": [],
      "metadata": {
        "id": "MrlNOHqmg9UI"
      },
      "execution_count": null,
      "outputs": []
    },
    {
      "cell_type": "markdown",
      "source": [
        "14. Faça um gráfico de série temporal do Voltage para o ano de 2008."
      ],
      "metadata": {
        "id": "i1u064ckg9Zw"
      }
    },
    {
      "cell_type": "code",
      "source": [],
      "metadata": {
        "id": "7Y0G_mdXg_iI"
      },
      "execution_count": null,
      "outputs": []
    },
    {
      "cell_type": "code",
      "source": [],
      "metadata": {
        "id": "HEkyucuJg_oA"
      },
      "execution_count": null,
      "outputs": []
    },
    {
      "cell_type": "markdown",
      "source": [
        "15. Compare o consumo entre os meses de verão e inverno (no hemisfério norte)."
      ],
      "metadata": {
        "id": "NWJejuhIg_tY"
      }
    },
    {
      "cell_type": "code",
      "source": [],
      "metadata": {
        "id": "uY1YvNAHhBkY"
      },
      "execution_count": null,
      "outputs": []
    },
    {
      "cell_type": "code",
      "source": [],
      "metadata": {
        "id": "l8RWtvZzhBwY"
      },
      "execution_count": null,
      "outputs": []
    },
    {
      "cell_type": "markdown",
      "source": [
        "16. Aplique uma amostragem aleatória de 1% dos dados e verifique se a distribuição de Global_active_power é semelhante à da base completa."
      ],
      "metadata": {
        "id": "lkvHUyUchB15"
      }
    },
    {
      "cell_type": "code",
      "source": [],
      "metadata": {
        "id": "Ki0YD7JphFSg"
      },
      "execution_count": null,
      "outputs": []
    },
    {
      "cell_type": "code",
      "source": [],
      "metadata": {
        "id": "6ToFZ4f_hFWv"
      },
      "execution_count": null,
      "outputs": []
    },
    {
      "cell_type": "markdown",
      "source": [
        "17. Utilize uma técnica de normalização (Min-Max Scaling) para padronizar as variáveis numéricas\n",
        "principais."
      ],
      "metadata": {
        "id": "D10lrGBohFco"
      }
    },
    {
      "cell_type": "code",
      "source": [],
      "metadata": {
        "id": "WoZqzlrPhIUI"
      },
      "execution_count": null,
      "outputs": []
    },
    {
      "cell_type": "code",
      "source": [],
      "metadata": {
        "id": "ClwyBw2jhIcg"
      },
      "execution_count": null,
      "outputs": []
    },
    {
      "cell_type": "markdown",
      "source": [
        "18. Aplique K-means para segmentar os dias em 3 grupos distintos de consumo elétrico. Interprete os resultados."
      ],
      "metadata": {
        "id": "816le2dJhIrA"
      }
    },
    {
      "cell_type": "code",
      "source": [],
      "metadata": {
        "id": "xyZ1WXAIhM_I"
      },
      "execution_count": null,
      "outputs": []
    },
    {
      "cell_type": "code",
      "source": [],
      "metadata": {
        "id": "cfifMGKihNFo"
      },
      "execution_count": null,
      "outputs": []
    },
    {
      "cell_type": "markdown",
      "source": [
        "19. Realize uma decomposição de série temporal (tendência, sazonalidade e resíduo) para Global_active_power em um período de 6 meses."
      ],
      "metadata": {
        "id": "i2laaFV7hNLg"
      }
    },
    {
      "cell_type": "code",
      "source": [],
      "metadata": {
        "id": "oLqcP7VZhQrY"
      },
      "execution_count": null,
      "outputs": []
    },
    {
      "cell_type": "code",
      "source": [],
      "metadata": {
        "id": "BwJ6Ml4AhRAg"
      },
      "execution_count": null,
      "outputs": []
    },
    {
      "cell_type": "markdown",
      "source": [
        "20. Treine um modelo de regressão linear simples para prever Global_active_power a partir de Global_intensity. Avalie o erro do modelo."
      ],
      "metadata": {
        "id": "plD-LivrhRHX"
      }
    },
    {
      "cell_type": "code",
      "source": [],
      "metadata": {
        "id": "Wp9NippEhUWo"
      },
      "execution_count": null,
      "outputs": []
    },
    {
      "cell_type": "code",
      "source": [],
      "metadata": {
        "id": "gGkyfmpJhUaw"
      },
      "execution_count": null,
      "outputs": []
    }
  ]
}